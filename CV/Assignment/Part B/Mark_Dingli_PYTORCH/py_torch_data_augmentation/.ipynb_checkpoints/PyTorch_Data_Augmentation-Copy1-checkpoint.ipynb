{
 "cells": [
  {
   "cell_type": "markdown",
   "id": "b41b3b84",
   "metadata": {},
   "source": [
    "# <u> Q3: Data Augmentation in mainstream machine learning frameworks <u>\n",
    "\n",
    "## <u> Data augmentation in PyTorch <u>\n",
    "    \n",
    "### <u> In this Jupyter Notebook I will be demostrating how data augmentation is achieved in PyTorch <U>"
   ]
  },
  {
   "cell_type": "markdown",
   "id": "7bafe5c8",
   "metadata": {},
   "source": [
    "### Installing PyTorch, torchvision and pillow:"
   ]
  },
  {
   "cell_type": "code",
   "execution_count": 1,
   "id": "7201a0d0",
   "metadata": {},
   "outputs": [],
   "source": [
    "#pip install torch torchvision\n",
    "#pip install pillow"
   ]
  },
  {
   "cell_type": "markdown",
   "id": "d612c4a5",
   "metadata": {},
   "source": [
    "### Importing necessary libraries:"
   ]
  },
  {
   "cell_type": "code",
   "execution_count": 2,
   "id": "233eabda",
   "metadata": {},
   "outputs": [],
   "source": [
    "import torch\n",
    "import torchvision.transforms as transforms\n",
    "from PIL import Image\n",
    "import os\n",
    "import random\n",
    "import logging\n",
    "import matplotlib.pyplot as plt\n",
    "import numpy as np\n",
    "\n",
    "logging.basicConfig(level=logging.INFO)"
   ]
  },
  {
   "cell_type": "markdown",
   "id": "32bda154",
   "metadata": {},
   "source": [
    "### Setting the random seed for reproducibility:\n",
    "\n",
    "Set the random seed for reproducibility (optional). This ensures that you can obtain the same augmented images every time you run the code. (Remove this part if you want more randomness)"
   ]
  },
  {
   "cell_type": "code",
   "execution_count": 3,
   "id": "994bff75",
   "metadata": {},
   "outputs": [],
   "source": [
    "# Set the random seed for reproducibility\n",
    "random_seed = 42\n",
    "torch.manual_seed(random_seed)\n",
    "random.seed(random_seed)"
   ]
  },
  {
   "cell_type": "markdown",
   "id": "86ed4346",
   "metadata": {},
   "source": [
    "### Defining the transformations for the desired augmentations:"
   ]
  },
  {
   "cell_type": "code",
   "execution_count": 4,
   "id": "8d1cd2c6",
   "metadata": {},
   "outputs": [],
   "source": [
    "# Create a sequence of image transformations for data augmentation\n",
    "transform = transforms.Compose([\n",
    "    # Randomly flip the image horizontally with a probability of 0.5\n",
    "    transforms.RandomHorizontalFlip(p=0.5),\n",
    "    # Randomly rotate the image within a range of ±20 degrees\n",
    "    transforms.RandomRotation(degrees=20),\n",
    "    # Apply a random affine transformation with translation, scaling, and shearing\n",
    "    transforms.RandomAffine(degrees=(-10, 10), translate=(0.1, 0.1), scale=(0.8, 1.2), shear=(-10, 10)),\n",
    "    # Randomly adjust brightness, contrast, and saturation\n",
    "    transforms.ColorJitter(brightness=0.2, contrast=0.2, saturation=0.2),\n",
    "    # Randomly apply a perspective transformation\n",
    "    transforms.RandomPerspective(distortion_scale=0.2, p=0.5),\n",
    "])"
   ]
  },
  {
   "cell_type": "markdown",
   "id": "c8b40f95",
   "metadata": {},
   "source": [
    "### Loading the COTS dataset images and setting the path to save augmented images:"
   ]
  },
  {
   "cell_type": "code",
   "execution_count": 5,
   "id": "0943b8e5",
   "metadata": {},
   "outputs": [],
   "source": [
    "# Set the path to the COTS dataset images\n",
    "image_directory = 'COTS_Dataset'\n",
    "\n",
    "# Set the path to save the augmented images\n",
    "output_directory = 'Augmented_images'\n",
    "# Create the output directory if it doesn't exist\n",
    "os.makedirs(output_directory, exist_ok=True)"
   ]
  },
  {
   "cell_type": "markdown",
   "id": "0d32be70",
   "metadata": {},
   "source": [
    "### Defining the augment_images function:"
   ]
  },
  {
   "cell_type": "code",
   "execution_count": 6,
   "id": "ca986726",
   "metadata": {},
   "outputs": [],
   "source": [
    "def augment_images(image_directory, output_directory, transform, num_augmentations=5):\n",
    "    # Define the allowed file extensions for image files\n",
    "    allowed_extensions = {'.jpg', '.jpeg', '.png', '.bmp'}\n",
    "    \n",
    "    # Iterate through all files in the input directory\n",
    "    for filename in os.listdir(image_directory):\n",
    "        # Check if the file has a valid image extension\n",
    "        if os.path.splitext(filename)[1].lower() not in allowed_extensions:\n",
    "            # Skip this file if it does not have a valid extension\n",
    "            continue\n",
    "        \n",
    "        # Error handling for image processing\n",
    "        try:\n",
    "            # Open each image file and convert it to a PyTorch tensor\n",
    "            img = Image.open(os.path.join(image_directory, filename)).convert('RGB')\n",
    "            img = transforms.ToTensor()(img)\n",
    "\n",
    "            # Apply the defined transform to each image num_augmentations times\n",
    "            for i in range(num_augmentations):\n",
    "                # Create an augmented version of the image using the specified transform\n",
    "                augmented_img = transform(img)\n",
    "                # Set the output filename for the augmented image\n",
    "                output_filename = os.path.join(output_directory, f'aug_{i}_{filename}')\n",
    "                # Save the augmented image in the output directory\n",
    "                transforms.ToPILImage()(augmented_img).save(output_filename)\n",
    "            \n",
    "            # Log that the image has been processed successfully\n",
    "            logging.info(f\"Processed image {filename}\")\n",
    "        \n",
    "        # Error handling for image processing\n",
    "        except Exception as e:\n",
    "            # Log the error and continue processing other images\n",
    "            logging.error(f\"Error processing image {filename}: {e}\")"
   ]
  },
  {
   "cell_type": "markdown",
   "id": "a73d4b0a",
   "metadata": {},
   "source": [
    "###  Running the augment_images function:"
   ]
  },
  {
   "cell_type": "code",
   "execution_count": 7,
   "id": "79834099",
   "metadata": {
    "scrolled": true
   },
   "outputs": [
    {
     "name": "stderr",
     "output_type": "stream",
     "text": [
      "INFO:root:Processed image beer_mug_colour.jpeg\n",
      "INFO:root:Processed image bowl_colour.jpeg\n",
      "INFO:root:Processed image cardboard_v1_colour.jpeg\n",
      "INFO:root:Processed image cordovado_colour.jpeg\n",
      "INFO:root:Processed image digital_natives_book_colour.jpeg\n",
      "INFO:root:Processed image elephant_colour.jpeg\n",
      "INFO:root:Processed image headphones_colour.jpeg\n",
      "INFO:root:Processed image lp_switz_colour.jpeg\n",
      "INFO:root:Processed image macbook_colour.jpeg\n",
      "INFO:root:Processed image shampoo_colour.jpeg\n"
     ]
    }
   ],
   "source": [
    "augment_images(image_directory, output_directory, transform, num_augmentations=5)"
   ]
  },
  {
   "cell_type": "markdown",
   "id": "40b1a16d",
   "metadata": {},
   "source": [
    "### Comparison"
   ]
  },
  {
   "cell_type": "code",
   "execution_count": null,
   "id": "0bbc4f8b",
   "metadata": {},
   "outputs": [],
   "source": [
    "def compare_histograms(image_directory, augmented_directory, image_name, augmented_image_name):\n",
    "    # Open the original image\n",
    "    original_img = Image.open(os.path.join(image_directory, image_name))\n",
    "    # Convert the original image to grayscale and resize\n",
    "    original_img = original_img.convert('L').resize((256, 256))\n",
    "    \n",
    "    # Open the augmented image\n",
    "    augmented_img = Image.open(os.path.join(augmented_directory, augmented_image_name))\n",
    "    # Convert the augmented image to grayscale and resize\n",
    "    augmented_img = augmented_img.convert('L').resize((256, 256))\n",
    "\n",
    "    # Set the figure size\n",
    "    plt.figure(figsize=(12, 6))\n",
    "\n",
    "    # Display the original and augmented images\n",
    "    plt.subplot(2, 2, 1)\n",
    "    plt.imshow(original_img, cmap='gray')\n",
    "    plt.title('Original Image')\n",
    "\n",
    "    plt.subplot(2, 2, 2)\n",
    "    plt.imshow(augmented_img, cmap='gray')\n",
    "    plt.title('Augmented Image')\n",
    "\n",
    "    # Display histograms for the original and augmented images\n",
    "    plt.subplot(2, 2, 3)\n",
    "    plt.hist(np.asarray(original_img).ravel(), bins=256, color='black')\n",
    "    plt.title('Original Image Histogram')\n",
    "\n",
    "    plt.subplot(2, 2, 4)\n",
    "    plt.hist(np.asarray(augmented_img).ravel(), bins=256, color='black')\n",
    "    plt.title('Augmented Image Histogram')\n",
    "\n",
    "    # Add space between subplots\n",
    "    plt.subplots_adjust(wspace=0.5, hspace=0.5)\n",
    "\n",
    "    plt.show()\n",
    "\n",
    "# Call the function\n",
    "compare_histograms(image_directory, output_directory, 'beer_mug_colour.jpeg', 'aug_0_beer_mug_colour.jpeg')"
   ]
  }
 ],
 "metadata": {
  "kernelspec": {
   "display_name": "Python 3 (ipykernel)",
   "language": "python",
   "name": "python3"
  },
  "language_info": {
   "codemirror_mode": {
    "name": "ipython",
    "version": 3
   },
   "file_extension": ".py",
   "mimetype": "text/x-python",
   "name": "python",
   "nbconvert_exporter": "python",
   "pygments_lexer": "ipython3",
   "version": "3.9.13"
  }
 },
 "nbformat": 4,
 "nbformat_minor": 5
}
