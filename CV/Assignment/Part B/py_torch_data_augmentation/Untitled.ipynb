{
 "cells": [
  {
   "cell_type": "markdown",
   "id": "41cb1cee",
   "metadata": {},
   "source": [
    "Install PyTorch, torchvision and pillow"
   ]
  },
  {
   "cell_type": "code",
   "execution_count": 1,
   "id": "f234faa6",
   "metadata": {},
   "outputs": [],
   "source": [
    "#pip install torch torchvision\n",
    "#pip install pillow"
   ]
  },
  {
   "cell_type": "markdown",
   "id": "140b1656",
   "metadata": {},
   "source": [
    "Import necessary libraries"
   ]
  },
  {
   "cell_type": "code",
   "execution_count": 2,
   "id": "4b325934",
   "metadata": {},
   "outputs": [],
   "source": [
    "import torch\n",
    "import torchvision.transforms as transforms\n",
    "from torchvision.io import read_image, write_jpeg\n",
    "import os\n",
    "from PIL import Image"
   ]
  },
  {
   "cell_type": "markdown",
   "id": "fd7e93f3",
   "metadata": {},
   "source": [
    "Define the transform object with the desired augmentations"
   ]
  },
  {
   "cell_type": "code",
   "execution_count": 3,
   "id": "cc0a729f",
   "metadata": {},
   "outputs": [],
   "source": [
    "transform = transforms.Compose([\n",
    "    transforms.RandomHorizontalFlip(p=0.5),\n",
    "    transforms.RandomRotation(degrees=20),\n",
    "    transforms.RandomAffine(degrees=0, translate=(0.2, 0.2)),\n",
    "])"
   ]
  },
  {
   "cell_type": "markdown",
   "id": "be836e34",
   "metadata": {},
   "source": [
    "Load the COTS dataset images and apply data augmentation"
   ]
  },
  {
   "cell_type": "code",
   "execution_count": null,
   "id": "148dde4e",
   "metadata": {},
   "outputs": [],
   "source": [
    "# Path to the COTS dataset images\n",
    "image_directory = 'COTSDataset-master\\COTSDataset-master\\Part 1 - Single Objects\\objects'\n",
    "\n",
    "# Save the augmented images to a new directory\n",
    "output_directory = 'Augmented_images'\n",
    "os.makedirs(output_directory, exist_ok=True)\n",
    "\n",
    "for filename in os.listdir(image_directory):\n",
    "    img = Image.open(os.path.join(image_directory, filename)).convert('RGB')\n",
    "    img = transforms.ToTensor()(img)\n",
    "\n",
    "    for i in range(5):\n",
    "        augmented_img = transform(img)\n",
    "        output_filename = os.path.join(output_directory, f'aug_{i}_{filename}')\n",
    "        transforms.ToPILImage()(augmented_img).save(output_filename)"
   ]
  }
 ],
 "metadata": {
  "kernelspec": {
   "display_name": "Python 3 (ipykernel)",
   "language": "python",
   "name": "python3"
  },
  "language_info": {
   "codemirror_mode": {
    "name": "ipython",
    "version": 3
   },
   "file_extension": ".py",
   "mimetype": "text/x-python",
   "name": "python",
   "nbconvert_exporter": "python",
   "pygments_lexer": "ipython3",
   "version": "3.9.13"
  }
 },
 "nbformat": 4,
 "nbformat_minor": 5
}
